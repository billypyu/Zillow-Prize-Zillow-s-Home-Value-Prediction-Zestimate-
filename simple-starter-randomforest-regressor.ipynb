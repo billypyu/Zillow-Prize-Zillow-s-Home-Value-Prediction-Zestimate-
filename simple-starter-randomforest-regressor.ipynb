{
 "cells": [
  {
   "cell_type": "markdown",
   "metadata": {
    "toc": true
   },
   "source": [
    "<h1>Table of Contents<span class=\"tocSkip\"></span></h1>\n",
    "<div class=\"toc\"><ul class=\"toc-item\"><li><span><a href=\"#-This-Notebook-takes-all-steps-from-loading-data-&amp;-packages-to-creating-a-submission-.csv-file-\" data-toc-modified-id=\"-This-Notebook-takes-all-steps-from-loading-data-&amp;-packages-to-creating-a-submission-.csv-file--1\"><span class=\"toc-item-num\">1&nbsp;&nbsp;</span> This Notebook takes all steps from loading data &amp; packages to creating a submission .csv file </a></span><ul class=\"toc-item\"><li><span><a href=\"#-1-|-Packages-\" data-toc-modified-id=\"-1-|-Packages--1.1\"><span class=\"toc-item-num\">1.1&nbsp;&nbsp;</span> 1 | Packages </a></span></li><li><span><a href=\"#-2-|-Configuration-\" data-toc-modified-id=\"-2-|-Configuration--1.2\"><span class=\"toc-item-num\">1.2&nbsp;&nbsp;</span> 2 | Configuration </a></span></li><li><span><a href=\"#-3-|-Load-Data-\" data-toc-modified-id=\"-3-|-Load-Data--1.3\"><span class=\"toc-item-num\">1.3&nbsp;&nbsp;</span> 3 | Load Data </a></span></li><li><span><a href=\"#-4-|-Prepare-Data-\" data-toc-modified-id=\"-4-|-Prepare-Data--1.4\"><span class=\"toc-item-num\">1.4&nbsp;&nbsp;</span> 4 | Prepare Data </a></span></li><li><span><a href=\"#-5-|-Fit-RandomForestRegressor-\" data-toc-modified-id=\"-5-|-Fit-RandomForestRegressor--1.5\"><span class=\"toc-item-num\">1.5&nbsp;&nbsp;</span> 5 | Fit RandomForestRegressor </a></span></li><li><span><a href=\"#-6-|-Evaluate-\" data-toc-modified-id=\"-6-|-Evaluate--1.6\"><span class=\"toc-item-num\">1.6&nbsp;&nbsp;</span> 6 | Evaluate </a></span></li><li><span><a href=\"#-7-|-Predict-and-Make-Submission-File-\" data-toc-modified-id=\"-7-|-Predict-and-Make-Submission-File--1.7\"><span class=\"toc-item-num\">1.7&nbsp;&nbsp;</span> 7 | Predict and Make Submission File </a></span></li></ul></li></ul></div>"
   ]
  },
  {
   "cell_type": "markdown",
   "metadata": {
    "_cell_guid": "860c267d-8c47-4432-9853-21bf3496fc70",
    "_execution_state": "idle",
    "_uuid": "bd5272bf57de390e8f81b9d0a7e83a3670adae33"
   },
   "source": [
    "<h1> This Notebook takes all steps from loading data & packages to creating a submission .csv file </h1>\n",
    "<p>The goal here is to show a basic example script that runs reasonably fast. Therefore, certain columns are eliminated and the RandomForest is fitted with a relatively low number of estimators </p>\n",
    "<ol>\n",
    "<li> Packages are imported</li>\n",
    "<li> Configuration is set </li>\n",
    "<li> Data is loaded </li>\n",
    "<li> Data is prepared for model  </li>\n",
    "<li> RandomForestRegressor is trained </li>\n",
    "<li> Results are evaluated </li>\n",
    "<li> Prediction submission file is made </li>\n",
    "</ol>"
   ]
  },
  {
   "cell_type": "markdown",
   "metadata": {
    "_cell_guid": "e140714a-e14c-456d-9ade-733cef080895",
    "_execution_state": "idle",
    "_uuid": "167fa527cc414b782bee3d0d7965626e82ee6a9b"
   },
   "source": [
    "<h2> 1 | Packages </h2>"
   ]
  },
  {
   "cell_type": "code",
   "execution_count": 2,
   "metadata": {
    "_cell_guid": "24d7540f-0e24-48db-b12e-7a3fb19bd975",
    "_execution_state": "busy",
    "_uuid": "1fbc10e40dcfed9d695bd3746a5d0575bf05ca9e"
   },
   "outputs": [],
   "source": [
    "import pandas as pd\n",
    "import numpy as np\n",
    "import os\n",
    "import re\n",
    "import random\n",
    "import datetime\n",
    "from sklearn.ensemble import RandomForestRegressor\n",
    "from sklearn.model_selection import GridSearchCV"
   ]
  },
  {
   "cell_type": "markdown",
   "metadata": {
    "_cell_guid": "1311b329-6f21-4f2d-89a5-254512dc18aa",
    "_execution_state": "idle",
    "_uuid": "2c12defeb389d790ea44cc4be98b45e3dbf99aa2"
   },
   "source": [
    "<h2> 2 | Configuration </h2>"
   ]
  },
  {
   "cell_type": "code",
   "execution_count": 3,
   "metadata": {
    "_cell_guid": "ad5ed093-ea47-4edb-9a9e-dcf365327f0a",
    "_execution_state": "busy",
    "_uuid": "08e155a217d85a1d1796971a55b42023076c99f1"
   },
   "outputs": [],
   "source": [
    "random.seed(3)  #To make the randomization reproducible\n",
    "pd.options.mode.chained_assignment = None  #To turn off specific warnings"
   ]
  },
  {
   "cell_type": "markdown",
   "metadata": {
    "_cell_guid": "1bda58f0-acda-4cb0-a5af-23597cff5d8b",
    "_execution_state": "idle",
    "_uuid": "6ed9e8d37f464b19f0f525b2ce16c8d2391fd67d"
   },
   "source": [
    "<h2> 3 | Load Data </h2>\n"
   ]
  },
  {
   "cell_type": "code",
   "execution_count": 4,
   "metadata": {
    "_cell_guid": "4b688915-0daf-4f7f-a661-3ba8e1c6bd85",
    "_execution_state": "busy",
    "_uuid": "0b825586640acec47da23b42259949ea5c72bbfd",
    "scrolled": true
   },
   "outputs": [
    {
     "name": "stderr",
     "output_type": "stream",
     "text": [
      "/Users/billyu/anaconda3/lib/python3.6/site-packages/IPython/core/interactiveshell.py:3049: DtypeWarning: Columns (22,32,34,49,55) have mixed types. Specify dtype option on import or set low_memory=False.\n",
      "  interactivity=interactivity, compiler=compiler, result=result)\n"
     ]
    }
   ],
   "source": [
    "train = pd.read_csv(r\"./data/train_2016_v2.csv\")   #The parcelid's with their outcomes\n",
    "props = pd.read_csv(r\"./data/properties_2016.csv\")  #The properties dataset\n",
    "samp = pd.read_csv(r\"./data/sample_submission.csv\")  #The parcelid's for the testset"
   ]
  },
  {
   "cell_type": "code",
   "execution_count": 6,
   "metadata": {},
   "outputs": [
    {
     "data": {
      "text/html": [
       "<div>\n",
       "<style scoped>\n",
       "    .dataframe tbody tr th:only-of-type {\n",
       "        vertical-align: middle;\n",
       "    }\n",
       "\n",
       "    .dataframe tbody tr th {\n",
       "        vertical-align: top;\n",
       "    }\n",
       "\n",
       "    .dataframe thead th {\n",
       "        text-align: right;\n",
       "    }\n",
       "</style>\n",
       "<table border=\"1\" class=\"dataframe\">\n",
       "  <thead>\n",
       "    <tr style=\"text-align: right;\">\n",
       "      <th></th>\n",
       "      <th>parcelid</th>\n",
       "      <th>airconditioningtypeid</th>\n",
       "      <th>architecturalstyletypeid</th>\n",
       "      <th>basementsqft</th>\n",
       "      <th>bathroomcnt</th>\n",
       "      <th>bedroomcnt</th>\n",
       "      <th>buildingclasstypeid</th>\n",
       "      <th>buildingqualitytypeid</th>\n",
       "      <th>calculatedbathnbr</th>\n",
       "      <th>decktypeid</th>\n",
       "      <th>...</th>\n",
       "      <th>numberofstories</th>\n",
       "      <th>fireplaceflag</th>\n",
       "      <th>structuretaxvaluedollarcnt</th>\n",
       "      <th>taxvaluedollarcnt</th>\n",
       "      <th>assessmentyear</th>\n",
       "      <th>landtaxvaluedollarcnt</th>\n",
       "      <th>taxamount</th>\n",
       "      <th>taxdelinquencyflag</th>\n",
       "      <th>taxdelinquencyyear</th>\n",
       "      <th>censustractandblock</th>\n",
       "    </tr>\n",
       "  </thead>\n",
       "  <tbody>\n",
       "    <tr>\n",
       "      <th>0</th>\n",
       "      <td>10754147</td>\n",
       "      <td>NaN</td>\n",
       "      <td>NaN</td>\n",
       "      <td>NaN</td>\n",
       "      <td>0.0</td>\n",
       "      <td>0.0</td>\n",
       "      <td>NaN</td>\n",
       "      <td>NaN</td>\n",
       "      <td>NaN</td>\n",
       "      <td>NaN</td>\n",
       "      <td>...</td>\n",
       "      <td>NaN</td>\n",
       "      <td>NaN</td>\n",
       "      <td>NaN</td>\n",
       "      <td>9.0</td>\n",
       "      <td>2015.0</td>\n",
       "      <td>9.0</td>\n",
       "      <td>NaN</td>\n",
       "      <td>NaN</td>\n",
       "      <td>NaN</td>\n",
       "      <td>NaN</td>\n",
       "    </tr>\n",
       "    <tr>\n",
       "      <th>1</th>\n",
       "      <td>10759547</td>\n",
       "      <td>NaN</td>\n",
       "      <td>NaN</td>\n",
       "      <td>NaN</td>\n",
       "      <td>0.0</td>\n",
       "      <td>0.0</td>\n",
       "      <td>NaN</td>\n",
       "      <td>NaN</td>\n",
       "      <td>NaN</td>\n",
       "      <td>NaN</td>\n",
       "      <td>...</td>\n",
       "      <td>NaN</td>\n",
       "      <td>NaN</td>\n",
       "      <td>NaN</td>\n",
       "      <td>27516.0</td>\n",
       "      <td>2015.0</td>\n",
       "      <td>27516.0</td>\n",
       "      <td>NaN</td>\n",
       "      <td>NaN</td>\n",
       "      <td>NaN</td>\n",
       "      <td>NaN</td>\n",
       "    </tr>\n",
       "    <tr>\n",
       "      <th>2</th>\n",
       "      <td>10843547</td>\n",
       "      <td>NaN</td>\n",
       "      <td>NaN</td>\n",
       "      <td>NaN</td>\n",
       "      <td>0.0</td>\n",
       "      <td>0.0</td>\n",
       "      <td>NaN</td>\n",
       "      <td>NaN</td>\n",
       "      <td>NaN</td>\n",
       "      <td>NaN</td>\n",
       "      <td>...</td>\n",
       "      <td>NaN</td>\n",
       "      <td>NaN</td>\n",
       "      <td>650756.0</td>\n",
       "      <td>1413387.0</td>\n",
       "      <td>2015.0</td>\n",
       "      <td>762631.0</td>\n",
       "      <td>20800.37</td>\n",
       "      <td>NaN</td>\n",
       "      <td>NaN</td>\n",
       "      <td>NaN</td>\n",
       "    </tr>\n",
       "    <tr>\n",
       "      <th>3</th>\n",
       "      <td>10859147</td>\n",
       "      <td>NaN</td>\n",
       "      <td>NaN</td>\n",
       "      <td>NaN</td>\n",
       "      <td>0.0</td>\n",
       "      <td>0.0</td>\n",
       "      <td>3.0</td>\n",
       "      <td>7.0</td>\n",
       "      <td>NaN</td>\n",
       "      <td>NaN</td>\n",
       "      <td>...</td>\n",
       "      <td>1.0</td>\n",
       "      <td>NaN</td>\n",
       "      <td>571346.0</td>\n",
       "      <td>1156834.0</td>\n",
       "      <td>2015.0</td>\n",
       "      <td>585488.0</td>\n",
       "      <td>14557.57</td>\n",
       "      <td>NaN</td>\n",
       "      <td>NaN</td>\n",
       "      <td>NaN</td>\n",
       "    </tr>\n",
       "    <tr>\n",
       "      <th>4</th>\n",
       "      <td>10879947</td>\n",
       "      <td>NaN</td>\n",
       "      <td>NaN</td>\n",
       "      <td>NaN</td>\n",
       "      <td>0.0</td>\n",
       "      <td>0.0</td>\n",
       "      <td>4.0</td>\n",
       "      <td>NaN</td>\n",
       "      <td>NaN</td>\n",
       "      <td>NaN</td>\n",
       "      <td>...</td>\n",
       "      <td>NaN</td>\n",
       "      <td>NaN</td>\n",
       "      <td>193796.0</td>\n",
       "      <td>433491.0</td>\n",
       "      <td>2015.0</td>\n",
       "      <td>239695.0</td>\n",
       "      <td>5725.17</td>\n",
       "      <td>NaN</td>\n",
       "      <td>NaN</td>\n",
       "      <td>NaN</td>\n",
       "    </tr>\n",
       "  </tbody>\n",
       "</table>\n",
       "<p>5 rows × 58 columns</p>\n",
       "</div>"
      ],
      "text/plain": [
       "   parcelid  airconditioningtypeid  architecturalstyletypeid  basementsqft  \\\n",
       "0  10754147                    NaN                       NaN           NaN   \n",
       "1  10759547                    NaN                       NaN           NaN   \n",
       "2  10843547                    NaN                       NaN           NaN   \n",
       "3  10859147                    NaN                       NaN           NaN   \n",
       "4  10879947                    NaN                       NaN           NaN   \n",
       "\n",
       "   bathroomcnt  bedroomcnt  buildingclasstypeid  buildingqualitytypeid  \\\n",
       "0          0.0         0.0                  NaN                    NaN   \n",
       "1          0.0         0.0                  NaN                    NaN   \n",
       "2          0.0         0.0                  NaN                    NaN   \n",
       "3          0.0         0.0                  3.0                    7.0   \n",
       "4          0.0         0.0                  4.0                    NaN   \n",
       "\n",
       "   calculatedbathnbr  decktypeid  ...  numberofstories  fireplaceflag  \\\n",
       "0                NaN         NaN  ...              NaN            NaN   \n",
       "1                NaN         NaN  ...              NaN            NaN   \n",
       "2                NaN         NaN  ...              NaN            NaN   \n",
       "3                NaN         NaN  ...              1.0            NaN   \n",
       "4                NaN         NaN  ...              NaN            NaN   \n",
       "\n",
       "   structuretaxvaluedollarcnt  taxvaluedollarcnt  assessmentyear  \\\n",
       "0                         NaN                9.0          2015.0   \n",
       "1                         NaN            27516.0          2015.0   \n",
       "2                    650756.0          1413387.0          2015.0   \n",
       "3                    571346.0          1156834.0          2015.0   \n",
       "4                    193796.0           433491.0          2015.0   \n",
       "\n",
       "   landtaxvaluedollarcnt  taxamount  taxdelinquencyflag  taxdelinquencyyear  \\\n",
       "0                    9.0        NaN                 NaN                 NaN   \n",
       "1                27516.0        NaN                 NaN                 NaN   \n",
       "2               762631.0   20800.37                 NaN                 NaN   \n",
       "3               585488.0   14557.57                 NaN                 NaN   \n",
       "4               239695.0    5725.17                 NaN                 NaN   \n",
       "\n",
       "   censustractandblock  \n",
       "0                  NaN  \n",
       "1                  NaN  \n",
       "2                  NaN  \n",
       "3                  NaN  \n",
       "4                  NaN  \n",
       "\n",
       "[5 rows x 58 columns]"
      ]
     },
     "execution_count": 6,
     "metadata": {},
     "output_type": "execute_result"
    }
   ],
   "source": [
    "props.head()"
   ]
  },
  {
   "cell_type": "markdown",
   "metadata": {
    "_cell_guid": "3891e67a-138c-4a8c-b06a-615ceaa83e7e",
    "_execution_state": "idle",
    "_uuid": "3abc0c230c5bcfc3e11303b53dbb69df945238f5"
   },
   "source": [
    "<h2> 4 | Prepare Data </h2>"
   ]
  },
  {
   "cell_type": "code",
   "execution_count": 4,
   "metadata": {
    "_cell_guid": "4e32ec40-d961-4883-9fbd-1674d1043f51",
    "_execution_state": "busy",
    "_uuid": "eaabecfca73d074f3f8111b9e22b0665f3ecc48d"
   },
   "outputs": [],
   "source": [
    "props = props.select_dtypes(exclude=[object])  #For this example, we take only numerical data, since strings require more processing\n",
    "props.fillna(-1,inplace=True)  #Fill missing data so we can run the model\n",
    "\n",
    "train = train.loc[:,['parcelid','logerror']].merge(props,how='left',left_on='parcelid',right_on='parcelid')\n",
    "train_x = train.drop(['parcelid','logerror'],axis=1,inplace=False)\n",
    "train_y = train['logerror']\n",
    "\n",
    "test = samp.loc[:,['ParcelId']].merge(props,how='left',left_on='ParcelId',right_on='parcelid')\n",
    "test_x = test.drop(['ParcelId','parcelid'],axis=1,inplace=False)"
   ]
  },
  {
   "cell_type": "markdown",
   "metadata": {
    "_cell_guid": "de5011ea-fc5c-47f3-8244-ef4f39293c5c",
    "_execution_state": "idle",
    "_uuid": "ce9d643c180e0d48a6b8a752c43feee626b3e850"
   },
   "source": [
    "<h2> 5 | Fit RandomForestRegressor </h2>"
   ]
  },
  {
   "cell_type": "code",
   "execution_count": 5,
   "metadata": {
    "_cell_guid": "62113bd9-4858-4973-b35b-bec7f94a83f7",
    "_execution_state": "busy",
    "_uuid": "877cae89b8aa357815154c43a892c6c5d5ecdfbf"
   },
   "outputs": [
    {
     "data": {
      "text/plain": [
       "GridSearchCV(cv=3, error_score='raise',\n",
       "       estimator=RandomForestRegressor(bootstrap=True, criterion='mse', max_depth=None,\n",
       "           max_features='auto', max_leaf_nodes=None,\n",
       "           min_impurity_decrease=0.0, min_impurity_split=None,\n",
       "           min_samples_leaf=1, min_samples_split=2,\n",
       "           min_weight_fraction_leaf=0.0, n_estimators=10, n_jobs=1,\n",
       "           oob_score=False, random_state=None, verbose=0, warm_start=False),\n",
       "       fit_params=None, iid=True, n_jobs=1,\n",
       "       param_grid={'n_estimators': [5, 10, 15], 'n_jobs': [-1], 'oob_score': [False]},\n",
       "       pre_dispatch='2*n_jobs', refit=True, return_train_score=True,\n",
       "       scoring='neg_mean_absolute_error', verbose=0)"
      ]
     },
     "execution_count": 5,
     "metadata": {},
     "output_type": "execute_result"
    }
   ],
   "source": [
    "parameters = {'n_estimators':[5,10,15],'n_jobs':[-1],'oob_score':[False]}  # this can be extended\n",
    "model = RandomForestRegressor()\n",
    "grid = GridSearchCV(model,param_grid=parameters,scoring='neg_mean_absolute_error',cv=3)  \n",
    "grid.fit(train_x,train_y)"
   ]
  },
  {
   "cell_type": "markdown",
   "metadata": {
    "_cell_guid": "fca7d586-53d6-43ac-89a8-86a668fa2335",
    "_execution_state": "idle",
    "_uuid": "d120085c6bbc015c4e48057fc892c8b3f2a8b63f"
   },
   "source": [
    "<h2> 6 | Evaluate </h2>\n",
    "<p> We can see the test scores in the crossvalidation table. Also, we see the 20 most important features in a column chart. </p>"
   ]
  },
  {
   "cell_type": "code",
   "execution_count": 6,
   "metadata": {
    "_cell_guid": "e3d06748-04e3-47e0-bd9c-b7ad07a86fca",
    "_execution_state": "busy",
    "_uuid": "9b689569c6aa53a39ab674ee74324c0e524c214f"
   },
   "outputs": [
    {
     "name": "stdout",
     "output_type": "stream",
     "text": [
      "  param_n_estimators  mean_test_score  std_test_score\n",
      "0                  5        -0.089714        0.001847\n",
      "1                 10        -0.083073        0.002677\n",
      "2                 15        -0.080304        0.002533\n"
     ]
    },
    {
     "data": {
      "text/plain": [
       "<matplotlib.axes._subplots.AxesSubplot at 0x7f6a5bc37f60>"
      ]
     },
     "execution_count": 6,
     "metadata": {},
     "output_type": "execute_result"
    },
    {
     "data": {
      "image/png": "[encoded data removed]",
      "text/plain": [
       "<matplotlib.figure.Figure at 0x7f6a59517860>"
      ]
     },
     "metadata": {},
     "output_type": "display_data"
    }
   ],
   "source": [
    "cv_results = pd.DataFrame(grid.cv_results_)\n",
    "print(cv_results[[\"param_n_estimators\",\"mean_test_score\",\"std_test_score\"]])\n",
    "\n",
    "feat_imps = grid.best_estimator_.feature_importances_\n",
    "fi = pd.DataFrame.from_dict({'feat':train_x.columns,'imp':feat_imps})\n",
    "fi.set_index('feat',inplace=True,drop=True)\n",
    "fi = fi.sort_values('imp',ascending=False)\n",
    "fi.head(20).plot.bar()"
   ]
  },
  {
   "cell_type": "markdown",
   "metadata": {
    "_cell_guid": "90a49f3b-e175-48bc-89dc-c433f5d07a3b",
    "_execution_state": "idle",
    "_uuid": "f5787a6e4ba8edc17e0a0572e454d3b656474e52"
   },
   "source": [
    "<h2> 7 | Predict and Make Submission File </h2>\n",
    "<p> The submission file is prepared with a datetime stamp so that it is not overwrited by consecutive submission files and it remains clear when the submission file was generated. For now, we assume the result is the same fot each month. </p>"
   ]
  },
  {
   "cell_type": "code",
   "execution_count": 7,
   "metadata": {
    "_cell_guid": "1268302d-9815-405c-a66e-e299c9368c3b",
    "_execution_state": "busy",
    "_uuid": "ab273524b4ed80d9a403979af549335f4fd174df"
   },
   "outputs": [
    {
     "name": "stdout",
     "output_type": "stream",
     "text": [
      "Prediction_parcelid20170705211153323514.csv\n"
     ]
    }
   ],
   "source": [
    "test_y = grid.predict(test_x)\n",
    "test_y = pd.DataFrame(test_y)\n",
    "test_y[1] = test_y[0]\n",
    "test_y[2] = test_y[0]\n",
    "test_y[3] = test_y[0]\n",
    "test_y[4] = test_y[0]\n",
    "test_y[5] = test_y[0]  #For simplicity make identical predictions for all months\n",
    "test_y.columns = [\"201610\",\"201611\",\"201612\",\"201710\",\"201711\",\"201712\"]\n",
    "submission = test_y.copy()\n",
    "submission[\"parcelid\"] = samp[\"ParcelId\"].copy()\n",
    "cols = [\"parcelid\",\"201610\",\"201611\",\"201612\",\"201710\",\"201711\",\"201712\"]\n",
    "submission = submission[cols]\n",
    "filename = \"Prediction_\" + str(submission.columns[0]) + re.sub(\"[^0-9]\", \"\",str(datetime.datetime.now())) + '.csv'\n",
    "print(filename)\n",
    "submission.to_csv(filename,index=False)\n"
   ]
  }
 ],
 "metadata": {
  "kernelspec": {
   "display_name": "Python 3",
   "language": "python",
   "name": "python3"
  },
  "language_info": {
   "codemirror_mode": {
    "name": "ipython",
    "version": 3
   },
   "file_extension": ".py",
   "mimetype": "text/x-python",
   "name": "python",
   "nbconvert_exporter": "python",
   "pygments_lexer": "ipython3",
   "version": "3.6.8"
  },
  "toc": {
   "base_numbering": 1,
   "nav_menu": {},
   "number_sections": true,
   "sideBar": true,
   "skip_h1_title": false,
   "title_cell": "Table of Contents",
   "title_sidebar": "Contents",
   "toc_cell": true,
   "toc_position": {
    "height": "calc(100% - 180px)",
    "left": "10px",
    "top": "150px",
    "width": "165px"
   },
   "toc_section_display": true,
   "toc_window_display": true
  }
 },
 "nbformat": 4,
 "nbformat_minor": 1
}
